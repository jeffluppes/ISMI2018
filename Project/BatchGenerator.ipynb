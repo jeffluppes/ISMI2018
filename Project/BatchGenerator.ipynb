{
 "cells": [
  {
   "cell_type": "markdown",
   "metadata": {},
   "source": [
    "# Creating circle masks"
   ]
  },
  {
   "cell_type": "code",
   "execution_count": 1,
   "metadata": {
    "scrolled": true
   },
   "outputs": [
    {
     "name": "stderr",
     "output_type": "stream",
     "text": [
      "/home/ruc0047/.local/lib/python3.5/site-packages/h5py/__init__.py:36: FutureWarning: Conversion of the second argument of issubdtype from `float` to `np.floating` is deprecated. In future, it will be treated as `np.float64 == np.dtype(float).type`.\n",
      "  from ._conv import register_converters as _register_converters\n",
      "Using TensorFlow backend.\n"
     ]
    }
   ],
   "source": [
	   "# System \n",
	   "from os.path import join, basename, dirname, exists \n",
	   "import os \n",
	   "from glob import glob \n" ,
	   "import random \n",
	   "from tqdm import tqdm \n",
	   "\n",
	   "# Computational \n",
	   "import pandas as pd  \n",
	   "import numpy as np  \n",
	   "from matplotlib import pyplot as plt  \n",
	   "\n",
	   "# Deep learning \n",
	   "import keras \n",
	   "\n",
	   "# Other \n",
	   "from scipy.ndimage import imread \n",
	   "from PIL import Image \n",
	   "from IPython.display import clear_output \n",
	   "from sklearn.metrics import precision_recall_curve"
   ]
  },
  {
   "cell_type": "code",
   "execution_count": 2,
   "metadata": {},
   "outputs": [],
   "source": [
    "train_dir = '/projects/0/ismi2018/FINALPROJECTS/LYMPHOCYTE_DETECTION/train_images' \n",
	"validation_dir = '/projects/0/ismi2018/FINALPROJECTS/LYMPHOCYTE_DETECTION/validation_images'\n",
	"test_dir = '/projects/0/ismi2018/FINALPROJECTS/LYMPHOCYTE_DETECTION/test_images'\n",
	"train_points = '/projects/0/ismi2018/FINALPROJECTS/LYMPHOCYTE_DETECTION/training_annotations.csv'\n",
	"data_dir = '/home/ruc0030/proj_1/project_data'\n",
	"#train_masks_dir = '/projects/0/ismi2018/FINALPROJECTS/LYMPHOCYTE_DETECTION/training_annotations.csv'"
   ]
  }
   ],
   "source": [
    "training_paths = os.listdir(train_dir)\n",
    "mask_paths = os.listdir(train_masks_dir)\n",
    "for path in training_paths:\n",
    "    mask_name = path.split('.png')[0] + '_mask.png'\n",
    "    if mask_name not in mask_paths:\n",
    "        createMaskForImage(train_dir, path, train_points, train_masks_dir)"
   ]
  },
  {
   "cell_type": "code",
   "execution_count": null,
   "metadata": {},
   "outputs": [],
   "source": [
    "2-CD3_ROI_8"
   ]
  }
 ],
 "metadata": {
  "kernelspec": {
   "display_name": "Python 3",
   "language": "python",
   "name": "python3"
  },
  "language_info": {
   "codemirror_mode": {
    "name": "ipython",
    "version": 3
   },
   "file_extension": ".py",
   "mimetype": "text/x-python",
   "name": "python",
   "nbconvert_exporter": "python",
   "pygments_lexer": "ipython3",
   "version": "3.5.2"
  }
 },
 "nbformat": 4,
 "nbformat_minor": 2
}
